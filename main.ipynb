{
 "cells": [
  {
   "cell_type": "code",
   "execution_count": 63,
   "metadata": {},
   "outputs": [],
   "source": [
    "import math\n",
    "class Value:\n",
    "    data = None\n",
    "\n",
    "    def __init__(self, data, children=(), op='', label = '') -> None:\n",
    "        self.data = data\n",
    "        self._children = set(children)\n",
    "        self._op = op\n",
    "        self.grad = 0\n",
    "        self.label = label\n",
    "        self._backward = lambda: None\n",
    "\n",
    "    def __repr__(self) -> str:\n",
    "        return f'Value(data={self.data})'\n",
    "\n",
    "    def __add__(self, other: 'Value') -> 'Value':\n",
    "        other = other if isinstance(other, Value) else Value(data=other)\n",
    "        output = self.data + other.data\n",
    "        def _backward():\n",
    "            self.grad += out.grad\n",
    "            other.grad += out.grad\n",
    "        out = Value(data=output, children=(self, other), op='+')\n",
    "        out._backward = _backward\n",
    "        return out\n",
    "    \n",
    "    def __mul__(self, other: 'Value'):\n",
    "        other = other if isinstance(other, Value) else Value(data=other)\n",
    "        out = Value(data=self.data * other.data,\n",
    "                    children=(self, other), op='*')\n",
    "        def _backward():\n",
    "            self.grad += other.data * out.grad\n",
    "            other.grad += self.data * out.grad\n",
    "        out._backward = _backward\n",
    "        return out\n",
    "\n",
    "    def __pow__(self, other):\n",
    "        assert isinstance(other, (int, float)), \"only supporting int/float powers for now\"\n",
    "        out = Value(data=(self.data ** other), children=(self,), op=f'**{other}')\n",
    "        def _backward():\n",
    "            self.grad += (other *(self.data ** (other - 1))) * out.grad\n",
    "        out._backward = _backward\n",
    "        return out\n",
    "    \n",
    "    def exp(self):\n",
    "        out = Value(math.exp(self.data), (self,), f'e')\n",
    "        def _backward():\n",
    "            self.grad += out.data * out.grad\n",
    "        out._backward = _backward\n",
    "        return out\n",
    "\n",
    "    def __radd__(self, other: 'Value') -> 'Value':\n",
    "        return self + other\n",
    "    \n",
    "    def __rmul__(self, other: 'Value') -> 'Value':\n",
    "        return self * other\n",
    "\n",
    "    def __neg__(self) -> 'Value':\n",
    "        return self * -1\n",
    "\n",
    "    def __sub__(self, other: 'Value'):\n",
    "        return self + -other\n",
    "\n",
    "    def __rsub__(self, other):\n",
    "        return -self + other\n",
    "\n",
    "    def __truediv__(self, other):\n",
    "        return self * (other**-1)\n",
    "\n",
    "    def __rtruediv__(self, other):\n",
    "        return other * (self**-1)\n",
    "\n",
    "    def backward(self):\n",
    "        topo = []\n",
    "        visited = set()\n",
    "        def build_topo(v):\n",
    "            if v not in visited:\n",
    "                visited.add(v)\n",
    "                for child in v._children:\n",
    "                    build_topo(child)\n",
    "                topo.append(v)\n",
    "        build_topo(self)\n",
    "        self.grad = 1\n",
    "        for n in reversed(topo):\n",
    "            n._backward()\n",
    "        \n"
   ]
  },
  {
   "cell_type": "code",
   "execution_count": 9,
   "metadata": {},
   "outputs": [],
   "source": [
    "# brew install graphviz\n",
    "# pip install graphviz\n",
    "from graphviz import Digraph\n"
   ]
  },
  {
   "cell_type": "code",
   "execution_count": 64,
   "metadata": {},
   "outputs": [],
   "source": [
    "\n",
    "def trace(root):\n",
    "    nodes, edges = set(), set()\n",
    "\n",
    "    def build(v):\n",
    "        if v not in nodes:\n",
    "            nodes.add(v)\n",
    "            for child in v._children:\n",
    "                edges.add((child, v))\n",
    "                build(child)\n",
    "    build(root)\n",
    "    return nodes, edges\n",
    "\n",
    "\n",
    "def draw_dot(root, format='svg', rankdir='LR'):\n",
    "    \"\"\"\n",
    "    format: png | svg | ...\n",
    "    rankdir: TB (top to bottom graph) | LR (left to right)\n",
    "    \"\"\"\n",
    "    assert rankdir in ['LR', 'TB']\n",
    "    nodes, edges = trace(root)\n",
    "    # , node_attr={'rankdir': 'TB'})\n",
    "    dot = Digraph(format=format, graph_attr={'rankdir': rankdir})\n",
    "\n",
    "    for n in nodes:\n",
    "        dot.node(name=str(id(n)), label=\"{ %s | data %.4f | grad %.4f }\" % (\n",
    "            n.label, n.data, n.grad), shape='record')\n",
    "        if n._op:\n",
    "            dot.node(name=str(id(n)) + n._op, label=n._op)\n",
    "            dot.edge(str(id(n)) + n._op, str(id(n)))\n",
    "\n",
    "    for n1, n2 in edges:\n",
    "        dot.edge(str(id(n1)), str(id(n2)) + n2._op)\n",
    "\n",
    "    return dot\n"
   ]
  },
  {
   "cell_type": "code",
   "execution_count": 65,
   "metadata": {},
   "outputs": [
    {
     "data": {
      "image/svg+xml": "<?xml version=\"1.0\" encoding=\"UTF-8\" standalone=\"no\"?>\n<!DOCTYPE svg PUBLIC \"-//W3C//DTD SVG 1.1//EN\"\n \"http://www.w3.org/Graphics/SVG/1.1/DTD/svg11.dtd\">\n<!-- Generated by graphviz version 7.1.0 (20230121.1956)\n -->\n<!-- Pages: 1 -->\n<svg width=\"1589pt\" height=\"153pt\"\n viewBox=\"0.00 0.00 1589.00 153.00\" xmlns=\"http://www.w3.org/2000/svg\" xmlns:xlink=\"http://www.w3.org/1999/xlink\">\n<g id=\"graph0\" class=\"graph\" transform=\"scale(1 1) rotate(0) translate(4 149)\">\n<polygon fill=\"white\" stroke=\"none\" points=\"-4,4 -4,-149 1585,-149 1585,4 -4,4\"/>\n<!-- 4621768192 -->\n<g id=\"node1\" class=\"node\">\n<title>4621768192</title>\n<polygon fill=\"none\" stroke=\"black\" points=\"1391,-80.5 1391,-116.5 1581,-116.5 1581,-80.5 1391,-80.5\"/>\n<text text-anchor=\"middle\" x=\"1402.5\" y=\"-94.8\" font-family=\"Times,serif\" font-size=\"14.00\">e</text>\n<polyline fill=\"none\" stroke=\"black\" points=\"1414,-80.5 1414,-116.5\"/>\n<text text-anchor=\"middle\" x=\"1456.5\" y=\"-94.8\" font-family=\"Times,serif\" font-size=\"14.00\">data &#45;2.0000</text>\n<polyline fill=\"none\" stroke=\"black\" points=\"1499,-80.5 1499,-116.5\"/>\n<text text-anchor=\"middle\" x=\"1540\" y=\"-94.8\" font-family=\"Times,serif\" font-size=\"14.00\">grad 0.0000</text>\n</g>\n<!-- 4621768192+ -->\n<g id=\"node2\" class=\"node\">\n<title>4621768192+</title>\n<ellipse fill=\"none\" stroke=\"black\" cx=\"1328\" cy=\"-98.5\" rx=\"27\" ry=\"18\"/>\n<text text-anchor=\"middle\" x=\"1328\" y=\"-94.8\" font-family=\"Times,serif\" font-size=\"14.00\">+</text>\n</g>\n<!-- 4621768192+&#45;&gt;4621768192 -->\n<g id=\"edge1\" class=\"edge\">\n<title>4621768192+&#45;&gt;4621768192</title>\n<path fill=\"none\" stroke=\"black\" d=\"M1355.46,-98.5C1362.68,-98.5 1370.95,-98.5 1379.76,-98.5\"/>\n<polygon fill=\"black\" stroke=\"black\" points=\"1379.64,-102 1389.64,-98.5 1379.64,-95 1379.64,-102\"/>\n</g>\n<!-- 4621777936 -->\n<g id=\"node3\" class=\"node\">\n<title>4621777936</title>\n<polygon fill=\"none\" stroke=\"black\" points=\"539,-108.5 539,-144.5 729,-144.5 729,-108.5 539,-108.5\"/>\n<text text-anchor=\"middle\" x=\"550.5\" y=\"-122.8\" font-family=\"Times,serif\" font-size=\"14.00\">c</text>\n<polyline fill=\"none\" stroke=\"black\" points=\"562,-108.5 562,-144.5\"/>\n<text text-anchor=\"middle\" x=\"604.5\" y=\"-122.8\" font-family=\"Times,serif\" font-size=\"14.00\">data &#45;2.0000</text>\n<polyline fill=\"none\" stroke=\"black\" points=\"647,-108.5 647,-144.5\"/>\n<text text-anchor=\"middle\" x=\"688\" y=\"-122.8\" font-family=\"Times,serif\" font-size=\"14.00\">grad 0.0000</text>\n</g>\n<!-- 4621777936&#45;&gt;4621768192+ -->\n<g id=\"edge9\" class=\"edge\">\n<title>4621777936&#45;&gt;4621768192+</title>\n<path fill=\"none\" stroke=\"black\" d=\"M728.99,-124.36C852.16,-121.26 1074.89,-114.63 1265,-103.5 1272.89,-103.04 1281.35,-102.43 1289.39,-101.8\"/>\n<polygon fill=\"black\" stroke=\"black\" points=\"1289.58,-105.3 1299.26,-101 1289.01,-98.32 1289.58,-105.3\"/>\n</g>\n<!-- 4621777936+ -->\n<g id=\"node4\" class=\"node\">\n<title>4621777936+</title>\n<ellipse fill=\"none\" stroke=\"black\" cx=\"253\" cy=\"-126.5\" rx=\"27\" ry=\"18\"/>\n<text text-anchor=\"middle\" x=\"253\" y=\"-122.8\" font-family=\"Times,serif\" font-size=\"14.00\">+</text>\n</g>\n<!-- 4621777936+&#45;&gt;4621777936 -->\n<g id=\"edge2\" class=\"edge\">\n<title>4621777936+&#45;&gt;4621777936</title>\n<path fill=\"none\" stroke=\"black\" d=\"M280.35,-126.5C330.74,-126.5 443.28,-126.5 527.76,-126.5\"/>\n<polygon fill=\"black\" stroke=\"black\" points=\"527.71,-130 537.71,-126.5 527.71,-123 527.71,-130\"/>\n</g>\n<!-- 4621770112 -->\n<g id=\"node5\" class=\"node\">\n<title>4621770112</title>\n<polygon fill=\"none\" stroke=\"black\" points=\"318.5,-0.5 318.5,-36.5 500.5,-36.5 500.5,-0.5 318.5,-0.5\"/>\n<text text-anchor=\"middle\" x=\"328.5\" y=\"-14.8\" font-family=\"Times,serif\" font-size=\"14.00\"> </text>\n<polyline fill=\"none\" stroke=\"black\" points=\"338.5,-0.5 338.5,-36.5\"/>\n<text text-anchor=\"middle\" x=\"378.5\" y=\"-14.8\" font-family=\"Times,serif\" font-size=\"14.00\">data 8.0000</text>\n<polyline fill=\"none\" stroke=\"black\" points=\"418.5,-0.5 418.5,-36.5\"/>\n<text text-anchor=\"middle\" x=\"459.5\" y=\"-14.8\" font-family=\"Times,serif\" font-size=\"14.00\">grad 0.0000</text>\n</g>\n<!-- 4621772560+ -->\n<g id=\"node13\" class=\"node\">\n<title>4621772560+</title>\n<ellipse fill=\"none\" stroke=\"black\" cx=\"634\" cy=\"-71.5\" rx=\"27\" ry=\"18\"/>\n<text text-anchor=\"middle\" x=\"634\" y=\"-67.8\" font-family=\"Times,serif\" font-size=\"14.00\">+</text>\n</g>\n<!-- 4621770112&#45;&gt;4621772560+ -->\n<g id=\"edge7\" class=\"edge\">\n<title>4621770112&#45;&gt;4621772560+</title>\n<path fill=\"none\" stroke=\"black\" d=\"M485.83,-36.44C523.34,-45.38 566.95,-55.77 596.9,-62.9\"/>\n<polygon fill=\"black\" stroke=\"black\" points=\"596.05,-66.3 606.59,-65.21 597.67,-59.49 596.05,-66.3\"/>\n</g>\n<!-- 4621770112**3 -->\n<g id=\"node6\" class=\"node\">\n<title>4621770112**3</title>\n<ellipse fill=\"none\" stroke=\"black\" cx=\"253\" cy=\"-18.5\" rx=\"27\" ry=\"18\"/>\n<text text-anchor=\"middle\" x=\"253\" y=\"-14.8\" font-family=\"Times,serif\" font-size=\"14.00\">**3</text>\n</g>\n<!-- 4621770112**3&#45;&gt;4621770112 -->\n<g id=\"edge3\" class=\"edge\">\n<title>4621770112**3&#45;&gt;4621770112</title>\n<path fill=\"none\" stroke=\"black\" d=\"M280.21,-18.5C288.15,-18.5 297.4,-18.5 307.22,-18.5\"/>\n<polygon fill=\"black\" stroke=\"black\" points=\"307.01,-22 317.01,-18.5 307.01,-15 307.01,-22\"/>\n</g>\n<!-- 4621776016 -->\n<g id=\"node7\" class=\"node\">\n<title>4621776016</title>\n<polygon fill=\"none\" stroke=\"black\" points=\"0,-108.5 0,-144.5 190,-144.5 190,-108.5 0,-108.5\"/>\n<text text-anchor=\"middle\" x=\"11.5\" y=\"-122.8\" font-family=\"Times,serif\" font-size=\"14.00\">a</text>\n<polyline fill=\"none\" stroke=\"black\" points=\"23,-108.5 23,-144.5\"/>\n<text text-anchor=\"middle\" x=\"65.5\" y=\"-122.8\" font-family=\"Times,serif\" font-size=\"14.00\">data &#45;4.0000</text>\n<polyline fill=\"none\" stroke=\"black\" points=\"108,-108.5 108,-144.5\"/>\n<text text-anchor=\"middle\" x=\"149\" y=\"-122.8\" font-family=\"Times,serif\" font-size=\"14.00\">grad 0.0000</text>\n</g>\n<!-- 4621776016&#45;&gt;4621777936+ -->\n<g id=\"edge10\" class=\"edge\">\n<title>4621776016&#45;&gt;4621777936+</title>\n<path fill=\"none\" stroke=\"black\" d=\"M189.9,-126.5C198.45,-126.5 206.74,-126.5 214.32,-126.5\"/>\n<polygon fill=\"black\" stroke=\"black\" points=\"214.09,-130 224.09,-126.5 214.09,-123 214.09,-130\"/>\n</g>\n<!-- 4621772464* -->\n<g id=\"node10\" class=\"node\">\n<title>4621772464*</title>\n<ellipse fill=\"none\" stroke=\"black\" cx=\"253\" cy=\"-72.5\" rx=\"27\" ry=\"18\"/>\n<text text-anchor=\"middle\" x=\"253\" y=\"-68.8\" font-family=\"Times,serif\" font-size=\"14.00\">*</text>\n</g>\n<!-- 4621776016&#45;&gt;4621772464* -->\n<g id=\"edge15\" class=\"edge\">\n<title>4621776016&#45;&gt;4621772464*</title>\n<path fill=\"none\" stroke=\"black\" d=\"M162.6,-108.55C171.86,-105.71 181.21,-102.66 190,-99.5 199.95,-95.92 210.58,-91.52 220.17,-87.31\"/>\n<polygon fill=\"black\" stroke=\"black\" points=\"221.39,-90.6 229.09,-83.32 218.53,-84.21 221.39,-90.6\"/>\n</g>\n<!-- 4621778608 -->\n<g id=\"node8\" class=\"node\">\n<title>4621778608</title>\n<polygon fill=\"none\" stroke=\"black\" points=\"2.5,-53.5 2.5,-89.5 187.5,-89.5 187.5,-53.5 2.5,-53.5\"/>\n<text text-anchor=\"middle\" x=\"14\" y=\"-67.8\" font-family=\"Times,serif\" font-size=\"14.00\">b</text>\n<polyline fill=\"none\" stroke=\"black\" points=\"25.5,-53.5 25.5,-89.5\"/>\n<text text-anchor=\"middle\" x=\"65.5\" y=\"-67.8\" font-family=\"Times,serif\" font-size=\"14.00\">data 2.0000</text>\n<polyline fill=\"none\" stroke=\"black\" points=\"105.5,-53.5 105.5,-89.5\"/>\n<text text-anchor=\"middle\" x=\"146.5\" y=\"-67.8\" font-family=\"Times,serif\" font-size=\"14.00\">grad 0.0000</text>\n</g>\n<!-- 4621778608&#45;&gt;4621777936+ -->\n<g id=\"edge13\" class=\"edge\">\n<title>4621778608&#45;&gt;4621777936+</title>\n<path fill=\"none\" stroke=\"black\" d=\"M160.05,-89.44C170.14,-92.6 180.4,-96 190,-99.5 199.86,-103.1 210.39,-107.48 219.92,-111.65\"/>\n<polygon fill=\"black\" stroke=\"black\" points=\"218.23,-114.73 228.79,-115.6 221.08,-108.33 218.23,-114.73\"/>\n</g>\n<!-- 4621778608&#45;&gt;4621770112**3 -->\n<g id=\"edge14\" class=\"edge\">\n<title>4621778608&#45;&gt;4621770112**3</title>\n<path fill=\"none\" stroke=\"black\" d=\"M148.81,-53.56C171.53,-45.84 197.44,-37.04 217.61,-30.18\"/>\n<polygon fill=\"black\" stroke=\"black\" points=\"218.69,-33.51 227.03,-26.98 216.44,-26.89 218.69,-33.51\"/>\n</g>\n<!-- 4621778608&#45;&gt;4621772464* -->\n<g id=\"edge17\" class=\"edge\">\n<title>4621778608&#45;&gt;4621772464*</title>\n<path fill=\"none\" stroke=\"black\" d=\"M187.2,-72.08C196.71,-72.15 205.96,-72.2 214.35,-72.26\"/>\n<polygon fill=\"black\" stroke=\"black\" points=\"214.04,-75.76 224.06,-72.32 214.08,-68.76 214.04,-75.76\"/>\n</g>\n<!-- 4621772464 -->\n<g id=\"node9\" class=\"node\">\n<title>4621772464</title>\n<polygon fill=\"none\" stroke=\"black\" points=\"316,-55.5 316,-91.5 503,-91.5 503,-55.5 316,-55.5\"/>\n<text text-anchor=\"middle\" x=\"326\" y=\"-69.8\" font-family=\"Times,serif\" font-size=\"14.00\"> </text>\n<polyline fill=\"none\" stroke=\"black\" points=\"336,-55.5 336,-91.5\"/>\n<text text-anchor=\"middle\" x=\"378.5\" y=\"-69.8\" font-family=\"Times,serif\" font-size=\"14.00\">data &#45;8.0000</text>\n<polyline fill=\"none\" stroke=\"black\" points=\"421,-55.5 421,-91.5\"/>\n<text text-anchor=\"middle\" x=\"462\" y=\"-69.8\" font-family=\"Times,serif\" font-size=\"14.00\">grad 0.0000</text>\n</g>\n<!-- 4621772464&#45;&gt;4621772560+ -->\n<g id=\"edge8\" class=\"edge\">\n<title>4621772464&#45;&gt;4621772560+</title>\n<path fill=\"none\" stroke=\"black\" d=\"M502.93,-72.67C535.29,-72.38 569.85,-72.07 595.2,-71.84\"/>\n<polygon fill=\"black\" stroke=\"black\" points=\"595.03,-75.34 604.99,-71.75 594.96,-68.34 595.03,-75.34\"/>\n</g>\n<!-- 4621772464*&#45;&gt;4621772464 -->\n<g id=\"edge4\" class=\"edge\">\n<title>4621772464*&#45;&gt;4621772464</title>\n<path fill=\"none\" stroke=\"black\" d=\"M280.21,-72.67C287.47,-72.72 295.83,-72.77 304.71,-72.83\"/>\n<polygon fill=\"black\" stroke=\"black\" points=\"304.68,-76.33 314.7,-72.89 304.72,-69.33 304.68,-76.33\"/>\n</g>\n<!-- 4621772512 -->\n<g id=\"node11\" class=\"node\">\n<title>4621772512</title>\n<polygon fill=\"none\" stroke=\"black\" points=\"765,-0.5 765,-36.5 952,-36.5 952,-0.5 765,-0.5\"/>\n<text text-anchor=\"middle\" x=\"775\" y=\"-14.8\" font-family=\"Times,serif\" font-size=\"14.00\"> </text>\n<polyline fill=\"none\" stroke=\"black\" points=\"785,-0.5 785,-36.5\"/>\n<text text-anchor=\"middle\" x=\"827.5\" y=\"-14.8\" font-family=\"Times,serif\" font-size=\"14.00\">data &#45;1.0000</text>\n<polyline fill=\"none\" stroke=\"black\" points=\"870,-0.5 870,-36.5\"/>\n<text text-anchor=\"middle\" x=\"911\" y=\"-14.8\" font-family=\"Times,serif\" font-size=\"14.00\">grad 0.0000</text>\n</g>\n<!-- 4621765504* -->\n<g id=\"node15\" class=\"node\">\n<title>4621765504*</title>\n<ellipse fill=\"none\" stroke=\"black\" cx=\"1015\" cy=\"-73.5\" rx=\"27\" ry=\"18\"/>\n<text text-anchor=\"middle\" x=\"1015\" y=\"-69.8\" font-family=\"Times,serif\" font-size=\"14.00\">*</text>\n</g>\n<!-- 4621772512&#45;&gt;4621765504* -->\n<g id=\"edge12\" class=\"edge\">\n<title>4621772512&#45;&gt;4621765504*</title>\n<path fill=\"none\" stroke=\"black\" d=\"M922.52,-36.5C932.45,-39.64 942.55,-43.03 952,-46.5 961.85,-50.12 972.38,-54.5 981.91,-58.68\"/>\n<polygon fill=\"black\" stroke=\"black\" points=\"980.22,-61.75 990.78,-62.63 983.07,-55.36 980.22,-61.75\"/>\n</g>\n<!-- 4621772560 -->\n<g id=\"node12\" class=\"node\">\n<title>4621772560</title>\n<polygon fill=\"none\" stroke=\"black\" points=\"766,-55.5 766,-91.5 951,-91.5 951,-55.5 766,-55.5\"/>\n<text text-anchor=\"middle\" x=\"777.5\" y=\"-69.8\" font-family=\"Times,serif\" font-size=\"14.00\">d</text>\n<polyline fill=\"none\" stroke=\"black\" points=\"789,-55.5 789,-91.5\"/>\n<text text-anchor=\"middle\" x=\"829\" y=\"-69.8\" font-family=\"Times,serif\" font-size=\"14.00\">data 0.0000</text>\n<polyline fill=\"none\" stroke=\"black\" points=\"869,-55.5 869,-91.5\"/>\n<text text-anchor=\"middle\" x=\"910\" y=\"-69.8\" font-family=\"Times,serif\" font-size=\"14.00\">grad 0.0000</text>\n</g>\n<!-- 4621772560&#45;&gt;4621765504* -->\n<g id=\"edge16\" class=\"edge\">\n<title>4621772560&#45;&gt;4621765504*</title>\n<path fill=\"none\" stroke=\"black\" d=\"M950.71,-73.5C959.65,-73.5 968.33,-73.5 976.25,-73.5\"/>\n<polygon fill=\"black\" stroke=\"black\" points=\"976.11,-77 986.11,-73.5 976.11,-70 976.11,-77\"/>\n</g>\n<!-- 4621772560+&#45;&gt;4621772560 -->\n<g id=\"edge5\" class=\"edge\">\n<title>4621772560+&#45;&gt;4621772560</title>\n<path fill=\"none\" stroke=\"black\" d=\"M661.4,-71.74C684.77,-71.95 720.44,-72.27 754.98,-72.58\"/>\n<polygon fill=\"black\" stroke=\"black\" points=\"754.6,-76.08 764.63,-72.67 754.66,-69.08 754.6,-76.08\"/>\n</g>\n<!-- 4621765504 -->\n<g id=\"node14\" class=\"node\">\n<title>4621765504</title>\n<polygon fill=\"none\" stroke=\"black\" points=\"1078,-57.5 1078,-93.5 1265,-93.5 1265,-57.5 1078,-57.5\"/>\n<text text-anchor=\"middle\" x=\"1088\" y=\"-71.8\" font-family=\"Times,serif\" font-size=\"14.00\"> </text>\n<polyline fill=\"none\" stroke=\"black\" points=\"1098,-57.5 1098,-93.5\"/>\n<text text-anchor=\"middle\" x=\"1140.5\" y=\"-71.8\" font-family=\"Times,serif\" font-size=\"14.00\">data &#45;0.0000</text>\n<polyline fill=\"none\" stroke=\"black\" points=\"1183,-57.5 1183,-93.5\"/>\n<text text-anchor=\"middle\" x=\"1224\" y=\"-71.8\" font-family=\"Times,serif\" font-size=\"14.00\">grad 0.0000</text>\n</g>\n<!-- 4621765504&#45;&gt;4621768192+ -->\n<g id=\"edge11\" class=\"edge\">\n<title>4621765504&#45;&gt;4621768192+</title>\n<path fill=\"none\" stroke=\"black\" d=\"M1264.6,-89.21C1273.53,-90.54 1282.18,-91.83 1290.06,-93\"/>\n<polygon fill=\"black\" stroke=\"black\" points=\"1289.44,-96.45 1299.85,-94.46 1290.47,-89.52 1289.44,-96.45\"/>\n</g>\n<!-- 4621765504*&#45;&gt;4621765504 -->\n<g id=\"edge6\" class=\"edge\">\n<title>4621765504*&#45;&gt;4621765504</title>\n<path fill=\"none\" stroke=\"black\" d=\"M1042.21,-73.84C1049.47,-73.93 1057.83,-74.04 1066.71,-74.16\"/>\n<polygon fill=\"black\" stroke=\"black\" points=\"1066.66,-77.66 1076.7,-74.29 1066.75,-70.66 1066.66,-77.66\"/>\n</g>\n</g>\n</svg>\n",
      "text/plain": [
       "<graphviz.graphs.Digraph at 0x1137ab580>"
      ]
     },
     "execution_count": 65,
     "metadata": {},
     "output_type": "execute_result"
    }
   ],
   "source": [
    "a = Value(-4.0, label='a')\n",
    "b = Value(2.0, label='b')\n",
    "c = a + b; c.label = 'c'\n",
    "d = a * b + b**3; d.label = 'd'\n",
    "e = c - d; e.label = 'e'\n",
    "draw_dot(e)"
   ]
  },
  {
   "cell_type": "code",
   "execution_count": 66,
   "metadata": {},
   "outputs": [],
   "source": [
    "e.grad = 1\n",
    "e._backward()\n"
   ]
  }
 ],
 "metadata": {
  "kernelspec": {
   "display_name": "venv",
   "language": "python",
   "name": "python3"
  },
  "language_info": {
   "codemirror_mode": {
    "name": "ipython",
    "version": 3
   },
   "file_extension": ".py",
   "mimetype": "text/x-python",
   "name": "python",
   "nbconvert_exporter": "python",
   "pygments_lexer": "ipython3",
   "version": "3.10.10"
  },
  "orig_nbformat": 4
 },
 "nbformat": 4,
 "nbformat_minor": 2
}
